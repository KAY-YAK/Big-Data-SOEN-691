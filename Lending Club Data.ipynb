{
 "cells": [
  {
   "cell_type": "markdown",
   "metadata": {},
   "source": [
    "# Loading Data"
   ]
  },
  {
   "cell_type": "code",
   "execution_count": 473,
   "metadata": {},
   "outputs": [
    {
     "name": "stderr",
     "output_type": "stream",
     "text": [
      "C:\\Users\\Turiya\\Anaconda3\\lib\\site-packages\\IPython\\core\\interactiveshell.py:2698: DtypeWarning: Columns (0,112,123,124,125,128,129,130,133,134,136,139,140,141,142,143,144) have mixed types. Specify dtype option on import or set low_memory=False.\n",
      "  interactivity=interactivity, compiler=compiler, result=result)\n"
     ]
    }
   ],
   "source": [
    "import pandas as pd\n",
    "import numpy as np\n",
    "import re\n",
    "\n",
    "df = pd.read_csv(\"loan_data2017.csv\", header=0)"
   ]
  },
  {
   "cell_type": "code",
   "execution_count": 474,
   "metadata": {},
   "outputs": [
    {
     "name": "stdout",
     "output_type": "stream",
     "text": [
      "<class 'pandas.core.frame.DataFrame'>\n",
      "RangeIndex: 432750 entries, 0 to 432749\n",
      "Columns: 145 entries, id to settlement_term\n",
      "dtypes: float64(51), int64(51), object(43)\n",
      "memory usage: 478.7+ MB\n"
     ]
    }
   ],
   "source": [
    "df.info()"
   ]
  },
  {
   "cell_type": "code",
   "execution_count": 475,
   "metadata": {
    "scrolled": true
   },
   "outputs": [
    {
     "data": {
      "text/plain": [
       "id                                             object\n",
       "member_id                                     float64\n",
       "loan_amnt                                       int64\n",
       "funded_amnt                                     int64\n",
       "funded_amnt_inv                               float64\n",
       "term                                           object\n",
       "int_rate                                       object\n",
       "installment                                   float64\n",
       "grade                                          object\n",
       "sub_grade                                      object\n",
       "emp_title                                      object\n",
       "emp_length                                     object\n",
       "home_ownership                                 object\n",
       "annual_inc                                    float64\n",
       "verification_status                            object\n",
       "issue_d                                        object\n",
       "loan_status                                    object\n",
       "pymnt_plan                                     object\n",
       "url                                           float64\n",
       "desc                                          float64\n",
       "purpose                                        object\n",
       "title                                          object\n",
       "zip_code                                       object\n",
       "addr_state                                     object\n",
       "dti                                           float64\n",
       "delinq_2yrs                                     int64\n",
       "earliest_cr_line                               object\n",
       "inq_last_6mths                                  int64\n",
       "mths_since_last_delinq                        float64\n",
       "mths_since_last_record                        float64\n",
       "                                               ...   \n",
       "sec_app_open_acc                              float64\n",
       "sec_app_revol_util                            float64\n",
       "sec_app_open_act_il                           float64\n",
       "sec_app_num_rev_accts                         float64\n",
       "sec_app_chargeoff_within_12_mths              float64\n",
       "sec_app_collections_12_mths_ex_med            float64\n",
       "sec_app_mths_since_last_major_derog           float64\n",
       "hardship_flag                                  object\n",
       "hardship_type                                  object\n",
       "hardship_reason                                object\n",
       "hardship_status                                object\n",
       "deferral_term                                 float64\n",
       "hardship_amount                               float64\n",
       "hardship_start_date                            object\n",
       "hardship_end_date                              object\n",
       "payment_plan_start_date                        object\n",
       "hardship_length                               float64\n",
       "hardship_dpd                                  float64\n",
       "hardship_loan_status                           object\n",
       "orig_projected_additional_accrued_interest     object\n",
       "hardship_payoff_balance_amount                float64\n",
       "hardship_last_payment_amount                   object\n",
       "disbursement_method                            object\n",
       "debt_settlement_flag                           object\n",
       "debt_settlement_flag_date                      object\n",
       "settlement_status                              object\n",
       "settlement_date                                object\n",
       "settlement_amount                              object\n",
       "settlement_percentage                          object\n",
       "settlement_term                                object\n",
       "Length: 145, dtype: object"
      ]
     },
     "execution_count": 475,
     "metadata": {},
     "output_type": "execute_result"
    }
   ],
   "source": [
    "df.dtypes"
   ]
  },
  {
   "cell_type": "markdown",
   "metadata": {},
   "source": [
    "# Loan Status _(Target Variable)_"
   ]
  },
  {
   "cell_type": "markdown",
   "metadata": {},
   "source": [
    "Loan Status is our target Variable. Another reason for looking into this variable is to reduce the size of the Data Set."
   ]
  },
  {
   "cell_type": "code",
   "execution_count": 476,
   "metadata": {},
   "outputs": [
    {
     "data": {
      "text/plain": [
       "Current               374892\n",
       "Fully Paid             39992\n",
       "Late (31-120 days)      6396\n",
       "Charged Off             5861\n",
       "In Grace Period         4007\n",
       "Late (16-30 days)       1592\n",
       "Default                   10\n",
       "Name: loan_status, dtype: int64"
      ]
     },
     "execution_count": 476,
     "metadata": {},
     "output_type": "execute_result"
    }
   ],
   "source": [
    "df.loan_status.value_counts()"
   ]
  },
  {
   "cell_type": "markdown",
   "metadata": {},
   "source": [
    "We can see there are 7 Categories. We will consider **Charged Off**, **Late (31-120 days)** and **Default** as **_Risky Loan_** and **Fully Paid** as **_Safe Loan_**"
   ]
  },
  {
   "cell_type": "code",
   "execution_count": 477,
   "metadata": {
    "collapsed": true
   },
   "outputs": [],
   "source": [
    "#Filtering the data set\n",
    "df = df[(df[\"loan_status\"] == 'Fully Paid') | (df[\"loan_status\"] == 'Charged Off') \\\n",
    "| (df[\"loan_status\"] == 'Default') | (df[\"loan_status\"] == 'Late (31-120 days)')]"
   ]
  },
  {
   "cell_type": "code",
   "execution_count": 478,
   "metadata": {},
   "outputs": [
    {
     "data": {
      "text/plain": [
       "Fully Paid            39992\n",
       "Late (31-120 days)     6396\n",
       "Charged Off            5861\n",
       "Default                  10\n",
       "Name: loan_status, dtype: int64"
      ]
     },
     "execution_count": 478,
     "metadata": {},
     "output_type": "execute_result"
    }
   ],
   "source": [
    "df.loan_status.value_counts()"
   ]
  },
  {
   "cell_type": "code",
   "execution_count": 479,
   "metadata": {},
   "outputs": [
    {
     "name": "stdout",
     "output_type": "stream",
     "text": [
      "<class 'pandas.core.frame.DataFrame'>\n",
      "Int64Index: 52259 entries, 1 to 432727\n",
      "Columns: 145 entries, id to settlement_term\n",
      "dtypes: float64(51), int64(51), object(43)\n",
      "memory usage: 58.2+ MB\n"
     ]
    }
   ],
   "source": [
    "df.info()"
   ]
  },
  {
   "cell_type": "code",
   "execution_count": 480,
   "metadata": {},
   "outputs": [],
   "source": [
    "# 0 ---> Safe Loan\n",
    "# 1 ---> Risky Loan\n",
    "def CreateTarget(status): \n",
    "    if status == 'Fully Paid':\n",
    "        return 1\n",
    "    else:\n",
    "        return 0\n",
    "    \n",
    "df['loan_pred'] = df['loan_status'].map(CreateTarget)\n",
    "df['loan_pred'].value_counts()\n",
    "df = df.drop([\"loan_status\"],axis=1)"
   ]
  },
  {
   "cell_type": "code",
   "execution_count": 481,
   "metadata": {},
   "outputs": [
    {
     "data": {
      "image/png": "[encoded data removed]",
      "text/plain": [
       "<matplotlib.figure.Figure at 0x1087e65a668>"
      ]
     },
     "metadata": {},
     "output_type": "display_data"
    }
   ],
   "source": [
    "from matplotlib import pyplot as plt \n",
    "plt.style.use('fivethirtyeight')\n",
    "plt.figure(figsize=(5,5))\n",
    "df['loan_pred'].value_counts().plot(kind = 'pie',autopct='%.0f%%', startangle=100, fontsize=17)\n",
    "plt.show()"
   ]
  },
  {
   "cell_type": "markdown",
   "metadata": {},
   "source": [
    "There is obvious class imbalance but there are literatures showing Ensemble Classifiers are able to handle Class Imbalance better(But they are not immune). We will try Adaboost and Random Forest."
   ]
  },
  {
   "cell_type": "markdown",
   "metadata": {},
   "source": [
    "## Selecting Features and Cleaning the Data"
   ]
  },
  {
   "cell_type": "code",
   "execution_count": 482,
   "metadata": {
    "collapsed": true
   },
   "outputs": [],
   "source": [
    "# Drop useless features\n",
    "df = df.drop([\"url\", \"desc\", \"member_id\",\"id\"],axis=1)"
   ]
  },
  {
   "cell_type": "code",
   "execution_count": 483,
   "metadata": {},
   "outputs": [
    {
     "name": "stdout",
     "output_type": "stream",
     "text": [
      "emp_title                                      3666\n",
      "dti                                              37\n",
      "mths_since_last_delinq                        25472\n",
      "mths_since_last_record                        41605\n",
      "revol_util                                       39\n",
      "last_pymnt_d                                    573\n",
      "next_pymnt_d                                  45372\n",
      "mths_since_last_major_derog                   37639\n",
      "annual_inc_joint                              49239\n",
      "dti_joint                                     49239\n",
      "verification_status_joint                     49239\n",
      "mths_since_rcnt_il                             1267\n",
      "il_util                                        7088\n",
      "all_util                                          5\n",
      "avg_cur_bal                                       2\n",
      "bc_open_to_buy                                  670\n",
      "bc_util                                         707\n",
      "mo_sin_old_il_acct                             1267\n",
      "mths_since_recent_bc                            643\n",
      "mths_since_recent_bc_dlq                      39676\n",
      "mths_since_recent_inq                          4187\n",
      "mths_since_recent_revol_delinq                34109\n",
      "num_tl_120dpd_2m                               2625\n",
      "percent_bc_gt_75                                671\n",
      "revol_bal_joint                               49865\n",
      "sec_app_earliest_cr_line                      49865\n",
      "sec_app_inq_last_6mths                        49865\n",
      "sec_app_mort_acc                              49865\n",
      "sec_app_open_acc                              49865\n",
      "sec_app_revol_util                            49921\n",
      "sec_app_open_act_il                           49865\n",
      "sec_app_num_rev_accts                         49865\n",
      "sec_app_chargeoff_within_12_mths              49865\n",
      "sec_app_collections_12_mths_ex_med            49865\n",
      "sec_app_mths_since_last_major_derog           51317\n",
      "hardship_type                                 52039\n",
      "hardship_reason                               52039\n",
      "hardship_status                               52039\n",
      "deferral_term                                 52039\n",
      "hardship_amount                               52039\n",
      "hardship_start_date                           52039\n",
      "hardship_end_date                             52039\n",
      "payment_plan_start_date                       52039\n",
      "hardship_length                               52039\n",
      "hardship_dpd                                  52039\n",
      "hardship_loan_status                          52039\n",
      "orig_projected_additional_accrued_interest    52117\n",
      "hardship_payoff_balance_amount                52039\n",
      "hardship_last_payment_amount                  52039\n",
      "debt_settlement_flag_date                     51923\n",
      "settlement_status                             51923\n",
      "settlement_date                               51923\n",
      "settlement_amount                             51923\n",
      "settlement_percentage                         51923\n",
      "settlement_term                               51923\n",
      "dtype: int64\n"
     ]
    }
   ],
   "source": [
    "df_null_count = df.isnull().sum()\n",
    "df_null_count = df_null_count[df_null_count!=0]\n",
    "print(df_null_count)"
   ]
  },
  {
   "cell_type": "markdown",
   "metadata": {},
   "source": [
    "### emp_title"
   ]
  },
  {
   "cell_type": "code",
   "execution_count": 484,
   "metadata": {},
   "outputs": [
    {
     "name": "stdout",
     "output_type": "stream",
     "text": [
      "Manager    975\n",
      "Teacher    921\n",
      "Owner      486\n",
      "Driver     437\n",
      "Sales      406\n",
      "Name: emp_title, dtype: int64\n",
      "Maintence worker                         1\n",
      "Non Commissioned Officer                 1\n",
      "Massage Therapist and Skin specialist    1\n",
      "Data Systems Administrator               1\n",
      "Dustrict Manager                         1\n",
      "Name: emp_title, dtype: int64\n"
     ]
    },
    {
     "data": {
      "text/plain": [
       "(21584,)"
      ]
     },
     "execution_count": 484,
     "metadata": {},
     "output_type": "execute_result"
    }
   ],
   "source": [
    "print(df.emp_title.value_counts().head())\n",
    "print(df.emp_title.value_counts().tail())\n",
    "df.emp_title.unique().shape"
   ]
  },
  {
   "cell_type": "code",
   "execution_count": 485,
   "metadata": {
    "collapsed": true
   },
   "outputs": [],
   "source": [
    "# drop since we dont have enough data\n",
    "df = df.drop([\"emp_title\"],axis=1)"
   ]
  },
  {
   "cell_type": "markdown",
   "metadata": {},
   "source": [
    "Too many categories Decision trees may overfit[???]"
   ]
  },
  {
   "cell_type": "markdown",
   "metadata": {},
   "source": [
    "### dti and  dti_joint"
   ]
  },
  {
   "cell_type": "markdown",
   "metadata": {},
   "source": [
    "Should merge them and also keep application type since we may have same dti but application type may differ"
   ]
  },
  {
   "cell_type": "code",
   "execution_count": 486,
   "metadata": {
    "collapsed": true
   },
   "outputs": [],
   "source": [
    "df[\"dti_joint\"] = df[\"dti_joint\"].fillna(0)\n",
    "df[\"new_dti\"] = df[[\"dti_joint\",\"dti\"]].max(axis=1)"
   ]
  },
  {
   "cell_type": "markdown",
   "metadata": {},
   "source": [
    "### emp_length"
   ]
  },
  {
   "cell_type": "code",
   "execution_count": 487,
   "metadata": {},
   "outputs": [
    {
     "data": {
      "text/plain": [
       "(10,)"
      ]
     },
     "execution_count": 487,
     "metadata": {},
     "output_type": "execute_result"
    }
   ],
   "source": [
    "df[\"emp_length\"] = df[\"emp_length\"].str.replace(r\"[^0-9]\",\"\")\n",
    "df[\"emp_length\"] = df[\"emp_length\"].apply(pd.to_numeric)\n",
    "avg_emp_len = df[\"emp_length\"].mean()\n",
    "df[\"emp_length\"] = df[\"emp_length\"].fillna(int(avg_emp_len))\n",
    "df.emp_length.unique().shape"
   ]
  },
  {
   "cell_type": "markdown",
   "metadata": {},
   "source": [
    "### revol_util"
   ]
  },
  {
   "cell_type": "code",
   "execution_count": 488,
   "metadata": {},
   "outputs": [
    {
     "data": {
      "text/plain": [
       "(1053,)"
      ]
     },
     "execution_count": 488,
     "metadata": {},
     "output_type": "execute_result"
    }
   ],
   "source": [
    "df[\"revol_util\"] = df[\"revol_util\"].str.replace(r\"%\",\"\")\n",
    "df[\"revol_util\"] = df[\"revol_util\"].apply(pd.to_numeric)\n",
    "df[\"revol_util\"] = df[\"revol_util\"].fillna(int(df[\"revol_util\"].mean()))\n",
    "df.revol_util.unique().shape"
   ]
  },
  {
   "cell_type": "markdown",
   "metadata": {},
   "source": [
    "### annual_inc and annual_inc_joint"
   ]
  },
  {
   "cell_type": "code",
   "execution_count": 489,
   "metadata": {},
   "outputs": [
    {
     "data": {
      "text/plain": [
       "(5360,)"
      ]
     },
     "execution_count": 489,
     "metadata": {},
     "output_type": "execute_result"
    }
   ],
   "source": [
    "df[\"annual_inc_joint\"] = df[\"annual_inc_joint\"].fillna(0)\n",
    "df[\"new_annual_inc\"] = df[[\"annual_inc_joint\",\"annual_inc\"]].max(axis=1)\n",
    "df.new_annual_inc.unique().shape"
   ]
  },
  {
   "cell_type": "markdown",
   "metadata": {},
   "source": [
    "### mths_since_rcnt_il"
   ]
  },
  {
   "cell_type": "code",
   "execution_count": 490,
   "metadata": {},
   "outputs": [
    {
     "data": {
      "text/plain": [
       "(224,)"
      ]
     },
     "execution_count": 490,
     "metadata": {},
     "output_type": "execute_result"
    }
   ],
   "source": [
    "df[\"mths_since_rcnt_il\"] = df[\"mths_since_rcnt_il\"].fillna(int(df[\"mths_since_rcnt_il\"].mean()))\n",
    "df.mths_since_rcnt_il.unique().shape"
   ]
  },
  {
   "cell_type": "markdown",
   "metadata": {},
   "source": [
    "### il_util"
   ]
  },
  {
   "cell_type": "code",
   "execution_count": 491,
   "metadata": {},
   "outputs": [
    {
     "data": {
      "text/plain": [
       "(186,)"
      ]
     },
     "execution_count": 491,
     "metadata": {},
     "output_type": "execute_result"
    }
   ],
   "source": [
    "df[\"il_util\"] = df[\"il_util\"].fillna(int(df[\"il_util\"].mean()))\n",
    "df.il_util.unique().shape"
   ]
  },
  {
   "cell_type": "markdown",
   "metadata": {},
   "source": [
    "### all_util"
   ]
  },
  {
   "cell_type": "code",
   "execution_count": 492,
   "metadata": {},
   "outputs": [
    {
     "data": {
      "text/plain": [
       "(148,)"
      ]
     },
     "execution_count": 492,
     "metadata": {},
     "output_type": "execute_result"
    }
   ],
   "source": [
    "df[\"all_util\"] = df[\"all_util\"].fillna(int(df[\"all_util\"].mean()))\n",
    "df.all_util.unique().shape"
   ]
  },
  {
   "cell_type": "markdown",
   "metadata": {},
   "source": [
    "### avg_cur_bal"
   ]
  },
  {
   "cell_type": "code",
   "execution_count": 493,
   "metadata": {},
   "outputs": [
    {
     "data": {
      "text/plain": [
       "(26618,)"
      ]
     },
     "execution_count": 493,
     "metadata": {},
     "output_type": "execute_result"
    }
   ],
   "source": [
    "df[\"avg_cur_bal\"] = df[\"avg_cur_bal\"].fillna(int(df[\"avg_cur_bal\"].mean()))\n",
    "df.avg_cur_bal.unique().shape"
   ]
  },
  {
   "cell_type": "markdown",
   "metadata": {},
   "source": [
    "### bc_open_to_buy 575\n"
   ]
  },
  {
   "cell_type": "code",
   "execution_count": 494,
   "metadata": {},
   "outputs": [
    {
     "data": {
      "text/plain": [
       "(24185,)"
      ]
     },
     "execution_count": 494,
     "metadata": {},
     "output_type": "execute_result"
    }
   ],
   "source": [
    "df[\"bc_open_to_buy\"] =df[\"bc_open_to_buy\"].fillna(int(df[\"bc_open_to_buy\"].mean()))\n",
    "df.bc_open_to_buy.unique().shape"
   ]
  },
  {
   "cell_type": "markdown",
   "metadata": {},
   "source": [
    "### bc_util 607"
   ]
  },
  {
   "cell_type": "code",
   "execution_count": 495,
   "metadata": {},
   "outputs": [
    {
     "data": {
      "text/plain": [
       "(1098,)"
      ]
     },
     "execution_count": 495,
     "metadata": {},
     "output_type": "execute_result"
    }
   ],
   "source": [
    "df[\"bc_util\"] =df[\"bc_util\"].fillna(int(df[\"bc_util\"].mean()))\n",
    "df.bc_util.unique().shape"
   ]
  },
  {
   "cell_type": "markdown",
   "metadata": {},
   "source": [
    "### mo_sin_old_il_acct"
   ]
  },
  {
   "cell_type": "code",
   "execution_count": 496,
   "metadata": {},
   "outputs": [
    {
     "data": {
      "text/plain": [
       "(392,)"
      ]
     },
     "execution_count": 496,
     "metadata": {},
     "output_type": "execute_result"
    }
   ],
   "source": [
    "df[\"mo_sin_old_il_acct\"] =df[\"mo_sin_old_il_acct\"].fillna(int(df[\"mo_sin_old_il_acct\"].mean()))\n",
    "df.mo_sin_old_il_acct.unique().shape"
   ]
  },
  {
   "cell_type": "markdown",
   "metadata": {},
   "source": [
    "### mths_since_recent_bc "
   ]
  },
  {
   "cell_type": "code",
   "execution_count": 497,
   "metadata": {},
   "outputs": [
    {
     "data": {
      "text/plain": [
       "(304,)"
      ]
     },
     "execution_count": 497,
     "metadata": {},
     "output_type": "execute_result"
    }
   ],
   "source": [
    "df[\"mths_since_recent_bc\"] = df[\"mths_since_recent_bc\"].fillna(int(df[\"mths_since_recent_bc\"].mean()))\n",
    "df.mths_since_recent_bc.unique().shape"
   ]
  },
  {
   "cell_type": "markdown",
   "metadata": {},
   "source": [
    "### mths_since_recent_inq\n"
   ]
  },
  {
   "cell_type": "code",
   "execution_count": 498,
   "metadata": {},
   "outputs": [
    {
     "data": {
      "text/plain": [
       "(26,)"
      ]
     },
     "execution_count": 498,
     "metadata": {},
     "output_type": "execute_result"
    }
   ],
   "source": [
    "df[\"mths_since_recent_inq\"] =df[\"mths_since_recent_inq\"].fillna(int(df[\"mths_since_recent_inq\"].mean()))\n",
    "df.mths_since_recent_inq.unique().shape"
   ]
  },
  {
   "cell_type": "markdown",
   "metadata": {},
   "source": [
    "### percent_bc_gt_75\n"
   ]
  },
  {
   "cell_type": "code",
   "execution_count": 499,
   "metadata": {},
   "outputs": [
    {
     "data": {
      "text/plain": [
       "(120,)"
      ]
     },
     "execution_count": 499,
     "metadata": {},
     "output_type": "execute_result"
    }
   ],
   "source": [
    "df[\"percent_bc_gt_75\"] =df[\"percent_bc_gt_75\"].fillna(df[\"percent_bc_gt_75\"].mean())\n",
    "df.percent_bc_gt_75.unique().shape"
   ]
  },
  {
   "cell_type": "markdown",
   "metadata": {},
   "source": [
    "### int_rate"
   ]
  },
  {
   "cell_type": "code",
   "execution_count": 500,
   "metadata": {
    "collapsed": true
   },
   "outputs": [],
   "source": [
    "df[\"int_rate\"] = df[\"int_rate\"].str.replace(r\"%\",\"\")\n",
    "df[\"int_rate\"] = df[\"int_rate\"].apply(pd.to_numeric)"
   ]
  },
  {
   "cell_type": "markdown",
   "metadata": {},
   "source": [
    "### Count null after filtering and drop all that has null"
   ]
  },
  {
   "cell_type": "code",
   "execution_count": 501,
   "metadata": {},
   "outputs": [
    {
     "name": "stdout",
     "output_type": "stream",
     "text": [
      "dti                                              37\n",
      "mths_since_last_delinq                        25472\n",
      "mths_since_last_record                        41605\n",
      "last_pymnt_d                                    573\n",
      "next_pymnt_d                                  45372\n",
      "mths_since_last_major_derog                   37639\n",
      "verification_status_joint                     49239\n",
      "mths_since_recent_bc_dlq                      39676\n",
      "mths_since_recent_revol_delinq                34109\n",
      "num_tl_120dpd_2m                               2625\n",
      "revol_bal_joint                               49865\n",
      "sec_app_earliest_cr_line                      49865\n",
      "sec_app_inq_last_6mths                        49865\n",
      "sec_app_mort_acc                              49865\n",
      "sec_app_open_acc                              49865\n",
      "sec_app_revol_util                            49921\n",
      "sec_app_open_act_il                           49865\n",
      "sec_app_num_rev_accts                         49865\n",
      "sec_app_chargeoff_within_12_mths              49865\n",
      "sec_app_collections_12_mths_ex_med            49865\n",
      "sec_app_mths_since_last_major_derog           51317\n",
      "hardship_type                                 52039\n",
      "hardship_reason                               52039\n",
      "hardship_status                               52039\n",
      "deferral_term                                 52039\n",
      "hardship_amount                               52039\n",
      "hardship_start_date                           52039\n",
      "hardship_end_date                             52039\n",
      "payment_plan_start_date                       52039\n",
      "hardship_length                               52039\n",
      "hardship_dpd                                  52039\n",
      "hardship_loan_status                          52039\n",
      "orig_projected_additional_accrued_interest    52117\n",
      "hardship_payoff_balance_amount                52039\n",
      "hardship_last_payment_amount                  52039\n",
      "debt_settlement_flag_date                     51923\n",
      "settlement_status                             51923\n",
      "settlement_date                               51923\n",
      "settlement_amount                             51923\n",
      "settlement_percentage                         51923\n",
      "settlement_term                               51923\n",
      "dtype: int64\n"
     ]
    }
   ],
   "source": [
    "df_null_count = df.isnull().sum()\n",
    "df_null_count = df_null_count[df_null_count!=0]\n",
    "print(df_null_count)"
   ]
  },
  {
   "cell_type": "code",
   "execution_count": 502,
   "metadata": {
    "collapsed": true
   },
   "outputs": [],
   "source": [
    "# now drop all the missing with axis = 1\n",
    "for x in df_null_count.keys():\n",
    "    df = df.drop(x,axis=1)"
   ]
  },
  {
   "cell_type": "markdown",
   "metadata": {},
   "source": [
    "### Drop more features reading data dictionary and mark categorical and continuous variables"
   ]
  },
  {
   "cell_type": "code",
   "execution_count": 503,
   "metadata": {},
   "outputs": [
    {
     "name": "stdout",
     "output_type": "stream",
     "text": [
      "loan_amnt                      1379\n",
      "funded_amnt                    1379\n",
      "funded_amnt_inv                1399\n",
      "term                              2\n",
      "int_rate                         67\n",
      "installment                   11741\n",
      "grade                             7\n",
      "sub_grade                        35\n",
      "emp_length                       10\n",
      "home_ownership                    5\n",
      "annual_inc                     5149\n",
      "verification_status               3\n",
      "issue_d                          12\n",
      "pymnt_plan                        2\n",
      "purpose                          12\n",
      "title                            12\n",
      "zip_code                        846\n",
      "addr_state                       50\n",
      "delinq_2yrs                      22\n",
      "earliest_cr_line                612\n",
      "inq_last_6mths                    6\n",
      "open_acc                         58\n",
      "pub_rec                          15\n",
      "revol_bal                     26808\n",
      "revol_util                     1053\n",
      "total_acc                       105\n",
      "initial_list_status               2\n",
      "out_prncp                      5837\n",
      "out_prncp_inv                  5859\n",
      "total_pymnt                   50536\n",
      "total_pymnt_inv               50011\n",
      "total_rec_prncp               11413\n",
      "total_rec_int                 42454\n",
      "total_rec_late_fee             1011\n",
      "recoveries                     1337\n",
      "collection_recovery_fee        1341\n",
      "last_pymnt_amnt               44552\n",
      "last_credit_pull_d               15\n",
      "collections_12_mths_ex_med        6\n",
      "policy_code                       1\n",
      "application_type                  2\n",
      "annual_inc_joint                942\n",
      "dti_joint                      1875\n",
      "acc_now_delinq                    4\n",
      "tot_coll_amt                   2753\n",
      "tot_cur_bal                   47383\n",
      "open_acc_6m                      14\n",
      "open_act_il                      35\n",
      "open_il_12m                      11\n",
      "open_il_24m                      22\n",
      "mths_since_rcnt_il              224\n",
      "total_bal_il                  35701\n",
      "il_util                         186\n",
      "open_rv_12m                      23\n",
      "open_rv_24m                      37\n",
      "max_bal_bc                    14930\n",
      "all_util                        148\n",
      "total_rev_hi_lim               3188\n",
      "inq_fi                           24\n",
      "total_cu_tl                      42\n",
      "inq_last_12m                     34\n",
      "acc_open_past_24mths             39\n",
      "avg_cur_bal                   26618\n",
      "bc_open_to_buy                24185\n",
      "bc_util                        1098\n",
      "chargeoff_within_12_mths          6\n",
      "delinq_amnt                     186\n",
      "mo_sin_old_il_acct              392\n",
      "mo_sin_old_rev_tl_op            625\n",
      "mo_sin_rcnt_rev_tl_op           178\n",
      "mo_sin_rcnt_tl                  114\n",
      "mort_acc                         21\n",
      "mths_since_recent_bc            304\n",
      "mths_since_recent_inq            26\n",
      "num_accts_ever_120_pd            31\n",
      "num_actv_bc_tl                   25\n",
      "num_actv_rev_tl                  38\n",
      "num_bc_sats                      36\n",
      "num_bc_tl                        52\n",
      "num_il_tl                        74\n",
      "num_op_rev_tl                    51\n",
      "num_rev_accts                    78\n",
      "num_rev_tl_bal_gt_0              35\n",
      "num_sats                         56\n",
      "num_tl_30dpd                      4\n",
      "num_tl_90g_dpd_24m               19\n",
      "num_tl_op_past_12m               23\n",
      "pct_tl_nvr_dlq                  426\n",
      "percent_bc_gt_75                120\n",
      "pub_rec_bankruptcies              7\n",
      "tax_liens                        14\n",
      "tot_hi_cred_lim               44481\n",
      "total_bal_ex_mort             41225\n",
      "total_bc_limit                 2081\n",
      "total_il_high_credit_limit    34264\n",
      "hardship_flag                     2\n",
      "disbursement_method               2\n",
      "debt_settlement_flag              2\n",
      "loan_pred                         2\n",
      "new_dti                        4249\n",
      "new_annual_inc                 5360\n"
     ]
    }
   ],
   "source": [
    "print(df.apply(pd.Series.nunique).to_string())"
   ]
  },
  {
   "cell_type": "code",
   "execution_count": 504,
   "metadata": {
    "collapsed": true
   },
   "outputs": [],
   "source": [
    "drop = [\"funded_amnt\",\"funded_amnt_inv\",\"annual_inc\",\"issue_d\",\"pymnt_plan\",\\\n",
    "        \"title\",\"zip_code\",\"earliest_cr_line\",\"inq_last_6mths\",\"initial_list_status\",\\\n",
    "        \"out_prncp\",\"out_prncp_inv\",\"total_pymnt\",\"total_pymnt_inv\",\\\n",
    "        \"total_rec_prncp\",\"total_rec_int\",\"total_rec_late_fee\",\"recoveries\",\\\n",
    "       \"collection_recovery_fee\",\"last_pymnt_amnt\",\"last_credit_pull_d\",\"collections_12_mths_ex_med\",\\\n",
    "        \"acc_now_delinq\",\"tot_coll_amt\",\"tot_cur_bal\",\"open_acc_6m\",\"open_act_il\",\\\n",
    "       \"open_il_12m\",\"open_il_24m\",\"all_util\",\"total_cu_tl\",\"inq_last_12m\",\"acc_open_past_24mths\",\\\n",
    "        \"avg_cur_bal\",\"bc_util\",\"chargeoff_within_12_mths\",\"delinq_amnt\",\\\n",
    "        \"mo_sin_old_il_acct\",\"mo_sin_old_rev_tl_op\",\"mo_sin_rcnt_rev_tl_op\",\\\n",
    "        \"mo_sin_rcnt_tl\",\"mths_since_recent_bc\",\"mths_since_recent_inq\",\"num_accts_ever_120_pd\",\\\n",
    "        \"num_actv_bc_tl\",\"num_actv_rev_tl\",\"num_bc_sats\",\"num_bc_tl\",\\\n",
    "        \"num_il_tl\",\"num_op_rev_tl\",\"num_rev_accts\",\"num_rev_tl_bal_gt_0\",\\\n",
    "        \"num_tl_30dpd\",\"num_tl_90g_dpd_24m\",\"num_tl_op_past_12m\",\"pct_tl_nvr_dlq\",\\\n",
    "       \"total_il_high_credit_limit\",\"hardship_flag\",\"disbursement_method\",\"debt_settlement_flag\",\\\n",
    "        \"annual_inc_joint\",\"policy_code\",\"addr_state\",\"sub_grade\"]"
   ]
  },
  {
   "cell_type": "code",
   "execution_count": 505,
   "metadata": {},
   "outputs": [],
   "source": [
    "df = df.drop(drop,axis=1)"
   ]
  },
  {
   "cell_type": "code",
   "execution_count": 506,
   "metadata": {
    "scrolled": true
   },
   "outputs": [
    {
     "name": "stdout",
     "output_type": "stream",
     "text": [
      "loan_amnt                1379\n",
      "term                        2\n",
      "int_rate                   67\n",
      "installment             11741\n",
      "grade                       7\n",
      "emp_length                 10\n",
      "home_ownership              5\n",
      "verification_status         3\n",
      "purpose                    12\n",
      "delinq_2yrs                22\n",
      "open_acc                   58\n",
      "pub_rec                    15\n",
      "revol_bal               26808\n",
      "revol_util               1053\n",
      "total_acc                 105\n",
      "application_type            2\n",
      "dti_joint                1875\n",
      "mths_since_rcnt_il        224\n",
      "total_bal_il            35701\n",
      "il_util                   186\n",
      "open_rv_12m                23\n",
      "open_rv_24m                37\n",
      "max_bal_bc              14930\n",
      "total_rev_hi_lim         3188\n",
      "inq_fi                     24\n",
      "bc_open_to_buy          24185\n",
      "mort_acc                   21\n",
      "num_sats                   56\n",
      "percent_bc_gt_75          120\n",
      "pub_rec_bankruptcies        7\n",
      "tax_liens                  14\n",
      "tot_hi_cred_lim         44481\n",
      "total_bal_ex_mort       41225\n",
      "total_bc_limit           2081\n",
      "loan_pred                   2\n",
      "new_dti                  4249\n",
      "new_annual_inc           5360\n"
     ]
    }
   ],
   "source": [
    "print(df.apply(pd.Series.nunique).to_string())"
   ]
  },
  {
   "cell_type": "markdown",
   "metadata": {},
   "source": [
    "Categorical variables = 5"
   ]
  },
  {
   "cell_type": "code",
   "execution_count": 507,
   "metadata": {
    "collapsed": true
   },
   "outputs": [],
   "source": [
    "categorical = [\"grade\",\"verification_status\",\"purpose\",\"home_ownership\"]"
   ]
  },
  {
   "cell_type": "code",
   "execution_count": 508,
   "metadata": {
    "collapsed": true
   },
   "outputs": [],
   "source": [
    "for x in categorical:\n",
    "    df = pd.concat([df, pd.get_dummies(df[x])], axis=1)\n",
    "df = df.drop(categorical,axis = 1)"
   ]
  },
  {
   "cell_type": "code",
   "execution_count": 509,
   "metadata": {},
   "outputs": [
    {
     "data": {
      "text/plain": [
       "0    39266\n",
       "1    12993\n",
       "Name: term, dtype: int64"
      ]
     },
     "execution_count": 509,
     "metadata": {},
     "output_type": "execute_result"
    }
   ],
   "source": [
    "#\"application_type\"\n",
    "# 0 ---> 36 months\n",
    "# 1 ---> 60 months\n",
    "def CreateTarget(status): \n",
    "    if status == ' 36 months':\n",
    "        return 0\n",
    "    else:\n",
    "        return 1\n",
    "    \n",
    "df['term'] = df['term'].map(CreateTarget)\n",
    "df['term'].value_counts()"
   ]
  },
  {
   "cell_type": "code",
   "execution_count": 510,
   "metadata": {},
   "outputs": [
    {
     "data": {
      "text/plain": [
       "1    49323\n",
       "0     2936\n",
       "Name: application_type, dtype: int64"
      ]
     },
     "execution_count": 510,
     "metadata": {},
     "output_type": "execute_result"
    }
   ],
   "source": [
    "#\"application_type\"\n",
    "# 0 ---> Joint Application\n",
    "# 1 ---> Individual Application\n",
    "def CreateTarget(status): \n",
    "    if status == 'Joint App':\n",
    "        return 0\n",
    "    else:\n",
    "        return 1\n",
    "    \n",
    "df['application_type'] = df['application_type'].map(CreateTarget)\n",
    "df['application_type'].value_counts()"
   ]
  },
  {
   "cell_type": "code",
   "execution_count": 511,
   "metadata": {
    "scrolled": true
   },
   "outputs": [
    {
     "name": "stdout",
     "output_type": "stream",
     "text": [
      "loan_amnt                1379\n",
      "term                        2\n",
      "int_rate                   67\n",
      "installment             11741\n",
      "emp_length                 10\n",
      "delinq_2yrs                22\n",
      "open_acc                   58\n",
      "pub_rec                    15\n",
      "revol_bal               26808\n",
      "revol_util               1053\n",
      "total_acc                 105\n",
      "application_type            2\n",
      "dti_joint                1875\n",
      "mths_since_rcnt_il        224\n",
      "total_bal_il            35701\n",
      "il_util                   186\n",
      "open_rv_12m                23\n",
      "open_rv_24m                37\n",
      "max_bal_bc              14930\n",
      "total_rev_hi_lim         3188\n",
      "inq_fi                     24\n",
      "bc_open_to_buy          24185\n",
      "mort_acc                   21\n",
      "num_sats                   56\n",
      "percent_bc_gt_75          120\n",
      "pub_rec_bankruptcies        7\n",
      "tax_liens                  14\n",
      "tot_hi_cred_lim         44481\n",
      "total_bal_ex_mort       41225\n",
      "total_bc_limit           2081\n",
      "loan_pred                   2\n",
      "new_dti                  4249\n",
      "new_annual_inc           5360\n",
      "A                           2\n",
      "B                           2\n",
      "C                           2\n",
      "D                           2\n",
      "E                           2\n",
      "F                           2\n",
      "G                           2\n",
      "Not Verified                2\n",
      "Source Verified             2\n",
      "Verified                    2\n",
      "car                         2\n",
      "credit_card                 2\n",
      "debt_consolidation          2\n",
      "home_improvement            2\n",
      "house                       2\n",
      "major_purchase              2\n",
      "medical                     2\n",
      "moving                      2\n",
      "other                       2\n",
      "renewable_energy            2\n",
      "small_business              2\n",
      "vacation                    2\n",
      "ANY                         2\n",
      "MORTGAGE                    2\n",
      "NONE                        2\n",
      "OWN                         2\n",
      "RENT                        2\n"
     ]
    }
   ],
   "source": [
    "print(df.apply(pd.Series.nunique).to_string())"
   ]
  },
  {
   "cell_type": "code",
   "execution_count": 512,
   "metadata": {},
   "outputs": [
    {
     "data": {
      "text/plain": [
       "(52259, 60)"
      ]
     },
     "execution_count": 512,
     "metadata": {},
     "output_type": "execute_result"
    }
   ],
   "source": [
    "#with predited variable\n",
    "df.shape"
   ]
  },
  {
   "cell_type": "code",
   "execution_count": 513,
   "metadata": {
    "scrolled": true
   },
   "outputs": [
    {
     "name": "stdout",
     "output_type": "stream",
     "text": [
      "loan_amnt                 int64\n",
      "term                      int64\n",
      "int_rate                float64\n",
      "installment             float64\n",
      "emp_length              float64\n",
      "delinq_2yrs               int64\n",
      "open_acc                  int64\n",
      "pub_rec                   int64\n",
      "revol_bal                 int64\n",
      "revol_util              float64\n",
      "total_acc                 int64\n",
      "application_type          int64\n",
      "dti_joint               float64\n",
      "mths_since_rcnt_il      float64\n",
      "total_bal_il              int64\n",
      "il_util                 float64\n",
      "open_rv_12m               int64\n",
      "open_rv_24m               int64\n",
      "max_bal_bc                int64\n",
      "total_rev_hi_lim          int64\n",
      "inq_fi                    int64\n",
      "bc_open_to_buy          float64\n",
      "mort_acc                  int64\n",
      "num_sats                  int64\n",
      "percent_bc_gt_75        float64\n",
      "pub_rec_bankruptcies      int64\n",
      "tax_liens                 int64\n",
      "tot_hi_cred_lim           int64\n",
      "total_bal_ex_mort         int64\n",
      "total_bc_limit            int64\n",
      "loan_pred                 int64\n",
      "new_dti                 float64\n",
      "new_annual_inc          float64\n",
      "A                         uint8\n",
      "B                         uint8\n",
      "C                         uint8\n",
      "D                         uint8\n",
      "E                         uint8\n",
      "F                         uint8\n",
      "G                         uint8\n",
      "Not Verified              uint8\n",
      "Source Verified           uint8\n",
      "Verified                  uint8\n",
      "car                       uint8\n",
      "credit_card               uint8\n",
      "debt_consolidation        uint8\n",
      "home_improvement          uint8\n",
      "house                     uint8\n",
      "major_purchase            uint8\n",
      "medical                   uint8\n",
      "moving                    uint8\n",
      "other                     uint8\n",
      "renewable_energy          uint8\n",
      "small_business            uint8\n",
      "vacation                  uint8\n",
      "ANY                       uint8\n",
      "MORTGAGE                  uint8\n",
      "NONE                      uint8\n",
      "OWN                       uint8\n",
      "RENT                      uint8\n"
     ]
    }
   ],
   "source": [
    "print(df.dtypes.to_string())"
   ]
  },
  {
   "cell_type": "code",
   "execution_count": 514,
   "metadata": {
    "collapsed": true
   },
   "outputs": [],
   "source": [
    "y = df.loan_pred\n",
    "X = df.drop(\"loan_pred\",axis = 1)"
   ]
  },
  {
   "cell_type": "code",
   "execution_count": 515,
   "metadata": {
    "collapsed": true
   },
   "outputs": [],
   "source": [
    "y = y.values\n",
    "X = X.values"
   ]
  },
  {
   "cell_type": "markdown",
   "metadata": {},
   "source": [
    "### Splitting into train and test data"
   ]
  },
  {
   "cell_type": "code",
   "execution_count": 516,
   "metadata": {
    "collapsed": true
   },
   "outputs": [],
   "source": [
    "from sklearn.model_selection import train_test_split\n",
    "X_train, X_test, y_train, y_test = train_test_split(X, y, test_size=0.2, random_state=42, stratify = y)"
   ]
  },
  {
   "cell_type": "markdown",
   "metadata": {},
   "source": [
    "## Random Forest"
   ]
  },
  {
   "cell_type": "markdown",
   "metadata": {},
   "source": [
    "Running random forest with 15 estimators and searching depth of tree as hyperparameter from 10,20,30,40,50. Weight of class is set to inverse of their ratio in the traing test."
   ]
  },
  {
   "cell_type": "code",
   "execution_count": 454,
   "metadata": {
    "collapsed": true
   },
   "outputs": [],
   "source": [
    "from sklearn.metrics import confusion_matrix\n",
    "from sklearn.model_selection import StratifiedKFold\n",
    "from sklearn.ensemble import RandomForestClassifier\n",
    "\n",
    "skf = StratifiedKFold(n_splits = 10, shuffle = True)\n",
    "specificity_test=[]\n",
    "sensitivity_test=[]\n",
    "specificity_train=[]\n",
    "sensitivity_train=[]\n",
    "accuracy_test = []\n",
    "accuracy_train = []\n",
    "list_tree_depth =[10,20,30,40,50]\n",
    "for x in range(0,5):\n",
    "    specificity_test.append([])\n",
    "    sensitivity_test.append([])\n",
    "    specificity_train.append([])\n",
    "    sensitivity_train.append([])\n",
    "    accuracy_test.append([])\n",
    "    accuracy_train.append([])\n",
    "for train_index, test_index in skf.split(X_train, y_train):\n",
    "    train_x, test_x = X_train[train_index], X_train[test_index]\n",
    "    train_y, test_y = y_train[train_index], y_train[test_index]\n",
    "    \n",
    "    for i in range(0,5):\n",
    "        model = RandomForestClassifier(n_estimators = 15 ,criterion = 'entropy', max_features = X.shape[1],\\\n",
    "                                       max_depth=list_tree_depth[i], class_weight = {1:.23,0:.77})    \n",
    "        model.fit(train_x, train_y)\n",
    "        y_pred = model.predict(test_x)\n",
    "        score_test = confusion_matrix(test_y, y_pred,labels=[1, 0])\n",
    "        y_pred = model.predict(train_x)\n",
    "        score_train = confusion_matrix(train_y, y_pred,labels=[1, 0])\n",
    "        # train scores\n",
    "        tp, fn, fp, tn = score_train.ravel()\n",
    "        specificity_train[i].append(tp/(tp+fn))\n",
    "        sensitivity_train[i].append(tn/(tn+fp))\n",
    "        accuracy_train[i].append((tp+tn)/(tn+tp+fn+fp))\n",
    "        \n",
    "        # test scores\n",
    "        tp, fn, fp, tn = score_test.ravel()\n",
    "        specificity_test[i].append(tp/(tp+fn))\n",
    "        sensitivity_test[i].append(tn/(tn+fp))\n",
    "        accuracy_test[i].append((tp+tn)/(tn+tp+fn+fp))\n",
    "        \n",
    "        \n",
    "#         balanced_scores_test[i].append(score_test)\n",
    "#         balanced_scores_train[i].append(score_train)\n"
   ]
  },
  {
   "cell_type": "code",
   "execution_count": 455,
   "metadata": {},
   "outputs": [],
   "source": [
    "mean_specificity_train =[]\n",
    "mean_specificity_test = []\n",
    "mean_sensitivity_train = []\n",
    "mean_sensitivity_test = []\n",
    "mean_accuracy_test = []\n",
    "mean_accuracy_train = []\n",
    "for i in range(0,5):\n",
    "    mean_specificity_train.append(sum(specificity_train[i])/10)\n",
    "    mean_specificity_test.append(sum(specificity_test[i])/10)\n",
    "    mean_sensitivity_train.append(sum(sensitivity_train[i])/10)\n",
    "    mean_sensitivity_test.append(sum(sensitivity_test[i])/10)\n",
    "    mean_accuracy_test.append(sum(accuracy_test[i])/10)\n",
    "    mean_accuracy_train.append(sum(accuracy_train[i])/10)"
   ]
  },
  {
   "cell_type": "code",
   "execution_count": 456,
   "metadata": {},
   "outputs": [
    {
     "data": {
      "image/png": "[encoded data removed]",
      "text/plain": [
       "<matplotlib.figure.Figure at 0x10815531e80>"
      ]
     },
     "metadata": {},
     "output_type": "display_data"
    }
   ],
   "source": [
    "plt.plot(range(1,6),mean_specificity_train, color = \"blue\")\n",
    "plt.plot(range(1,6),mean_specificity_test, color = \"red\")\n",
    "plt.show()"
   ]
  },
  {
   "cell_type": "code",
   "execution_count": 457,
   "metadata": {},
   "outputs": [
    {
     "data": {
      "image/png": "[encoded data removed]",
      "text/plain": [
       "<matplotlib.figure.Figure at 0x1080d012240>"
      ]
     },
     "metadata": {},
     "output_type": "display_data"
    }
   ],
   "source": [
    "plt.plot(range(1,6),mean_sensitivity_train, color = \"blue\")\n",
    "plt.plot(range(1,6),mean_sensitivity_test, color = \"red\")\n",
    "plt.show()"
   ]
  },
  {
   "cell_type": "code",
   "execution_count": 458,
   "metadata": {},
   "outputs": [
    {
     "data": {
      "image/png": "[encoded data removed]",
      "text/plain": [
       "<matplotlib.figure.Figure at 0x10815531b38>"
      ]
     },
     "metadata": {},
     "output_type": "display_data"
    }
   ],
   "source": [
    "plt.plot(range(1,6),mean_accuracy_train, color = \"blue\")\n",
    "plt.plot(range(1,6),mean_accuracy_test, color = \"red\")\n",
    "plt.show()"
   ]
  },
  {
   "cell_type": "code",
   "execution_count": 523,
   "metadata": {},
   "outputs": [
    {
     "name": "stdout",
     "output_type": "stream",
     "text": [
      "Training Scores\n",
      "Specificity0.920732660269\n",
      "Sensitivity0.892398614225\n",
      "Accuracy0.914081373933\n",
      "Testing Scores\n",
      "Specificity0.819227403425\n",
      "Sensitivity0.381573583367\n",
      "Accuracy0.716513585917\n"
     ]
    }
   ],
   "source": [
    "model = RandomForestClassifier(n_estimators = 10 ,criterion = 'entropy', max_features = X.shape[1],max_depth=15,\\\n",
    "                               class_weight = {1:.23,0:.77} )\n",
    "model.fit(X_train, y_train)\n",
    "y_pred = model.predict(X_test)\n",
    "score_test = confusion_matrix(y_test, y_pred,labels=[1, 0])\n",
    "y_pred = model.predict(X_train)\n",
    "score_train = confusion_matrix(y_train, y_pred,labels=[1, 0])\n",
    "# train scores\n",
    "print(\"Training Scores\")\n",
    "tp, fn, fp, tn = score_train.ravel()\n",
    "print(\"Specificity\"+str(tp/(tp+fn)))\n",
    "print(\"Sensitivity\"+str(tn/(tn+fp)))\n",
    "print(\"Accuracy\"+str((tp+tn)/(tn+tp+fn+fp)))\n",
    "        \n",
    "# test scores\n",
    "print(\"Testing Scores\")\n",
    "tp, fn, fp, tn = score_test.ravel()\n",
    "print(\"Specificity\"+str(tp/(tp+fn)))\n",
    "print(\"Sensitivity\"+str(tn/(tn+fp)))\n",
    "print(\"Accuracy\"+str((tp+tn)/(tn+tp+fn+fp)))\n",
    "        "
   ]
  },
  {
   "cell_type": "code",
   "execution_count": 524,
   "metadata": {},
   "outputs": [
    {
     "name": "stdout",
     "output_type": "stream",
     "text": [
      "[[6553 1446]\n",
      " [1517  936]]\n"
     ]
    }
   ],
   "source": [
    "print(score_test)"
   ]
  },
  {
   "cell_type": "code",
   "execution_count": 525,
   "metadata": {},
   "outputs": [
    {
     "name": "stdout",
     "output_type": "stream",
     "text": [
      "1446\n"
     ]
    }
   ],
   "source": [
    "print(fp)"
   ]
  },
  {
   "cell_type": "code",
   "execution_count": 461,
   "metadata": {
    "collapsed": true
   },
   "outputs": [],
   "source": [
    "from sklearn.model_selection import StratifiedKFold\n",
    "from sklearn.ensemble import AdaBoostClassifier\n",
    "from sklearn.metrics import confusion_matrix\n",
    "\n",
    "# n_estimators = [100, 200, 300]\n",
    "learning_rate = [0.4, 0.5, 0.6, 0.7]\n",
    "skf = StratifiedKFold(n_splits = 10, shuffle = True)\n",
    "specificity_test=[]\n",
    "sensitivity_test=[]\n",
    "specificity_train=[]\n",
    "sensitivity_train=[]\n",
    "accuracy_test = []\n",
    "accuracy_train = []\n",
    "for x in range(0,4):\n",
    "    specificity_test.append([])\n",
    "    sensitivity_test.append([])\n",
    "    specificity_train.append([])\n",
    "    sensitivity_train.append([])\n",
    "    accuracy_test.append([])\n",
    "    accuracy_train.append([])\n",
    "for train_index, test_index in skf.split(X_train, y_train):\n",
    "    train_x, test_x = X_train[train_index], X_train[test_index]\n",
    "    train_y, test_y = y_train[train_index], y_train[test_index]\n",
    "    \n",
    "\n",
    "    for i in range(0,4):\n",
    "        model = AdaBoostClassifier(n_estimators = 15 ,learning_rate = learning_rate[i])    \n",
    "        model.fit(train_x, train_y)\n",
    "        y_pred = model.predict(test_x)\n",
    "        score_test = confusion_matrix(test_y, y_pred,labels=[1, 0])\n",
    "        y_pred = model.predict(train_x)\n",
    "        score_train = confusion_matrix(train_y, y_pred,labels=[1, 0])\n",
    "        # train scores\n",
    "        tp, fn, fp, tn = score_train.ravel()\n",
    "        specificity_train[i].append(tp/(tp+fn))\n",
    "        sensitivity_train[i].append(tn/(tn+fp))\n",
    "        accuracy_train[i].append((tp+tn)/(tn+tp+fn+fp))\n",
    "\n",
    "        # test scores\n",
    "        tp, fn, fp, tn = score_test.ravel()\n",
    "        specificity_test[i].append(tp/(tp+fn))\n",
    "        sensitivity_test[i].append(tn/(tn+fp))\n",
    "        accuracy_test[i].append((tp+tn)/(tn+tp+fn+fp))\n",
    "#             balanced_scores_test[i].append(score_test)\n",
    "#             balanced_scores_train[i].append(score_train)\n",
    "\n"
   ]
  },
  {
   "cell_type": "code",
   "execution_count": 462,
   "metadata": {
    "collapsed": true
   },
   "outputs": [],
   "source": [
    "mean_specificity_train =[]\n",
    "mean_specificity_test = []\n",
    "mean_sensitivity_train = []\n",
    "mean_sensitivity_test = []\n",
    "mean_accuracy_test = []\n",
    "mean_accuracy_train = []\n",
    "for i in range(0,4):\n",
    "    mean_specificity_train.append(sum(specificity_train[i])/10)\n",
    "    mean_specificity_test.append(sum(specificity_test[i])/10)\n",
    "    mean_sensitivity_train.append(sum(sensitivity_train[i])/10)\n",
    "    mean_sensitivity_test.append(sum(sensitivity_test[i])/10)\n",
    "    mean_accuracy_test.append(sum(accuracy_test[i])/10)\n",
    "    mean_accuracy_train.append(sum(accuracy_train[i])/10)"
   ]
  },
  {
   "cell_type": "code",
   "execution_count": 463,
   "metadata": {},
   "outputs": [
    {
     "name": "stdout",
     "output_type": "stream",
     "text": [
      "[0.99898589031144525, 0.99511697422385748, 0.99067850528535106, 0.98580592669162859]\n",
      "[0.0054796943219350362, 0.024115258348551299, 0.041878855508493351, 0.057264994208148956]\n",
      "[0.76576490309074852, 0.76717881066591942, 0.76795220200756487, 0.76783526003993174]\n",
      "[0.9990310155517349, 0.9944989059080962, 0.98993531181619265, 0.98571552633635517]\n",
      "[0.0057060732325591532, 0.02445455508012731, 0.041574124246633072, 0.05441276306856755]\n",
      "[0.76585261873278787, 0.76678550150952329, 0.767311657117422, 0.76709642617879648]\n"
     ]
    }
   ],
   "source": [
    "print(mean_specificity_train)\n",
    "print(mean_sensitivity_train)\n",
    "print(mean_accuracy_train)\n",
    "print(mean_specificity_test)\n",
    "print(mean_sensitivity_test)\n",
    "print(mean_accuracy_test)"
   ]
  },
  {
   "cell_type": "code",
   "execution_count": 464,
   "metadata": {},
   "outputs": [
    {
     "data": {
      "image/png": "[encoded data removed]",
      "text/plain": [
       "<matplotlib.figure.Figure at 0x108791b5fd0>"
      ]
     },
     "metadata": {},
     "output_type": "display_data"
    }
   ],
   "source": [
    "learning_rate = [\"0.4\", \"0.5\", \"0.6\", \"0.7\"]\n",
    "x = range(1,5)\n",
    "plt.xticks(x, learning_rate)\n",
    "plt.plot(x,mean_sensitivity_train, color = \"blue\")\n",
    "plt.plot(x,mean_sensitivity_test, color = \"red\")\n",
    "plt.show()"
   ]
  },
  {
   "cell_type": "code",
   "execution_count": 465,
   "metadata": {},
   "outputs": [
    {
     "data": {
      "image/png": "[encoded data removed]",
      "text/plain": [
       "<matplotlib.figure.Figure at 0x1080ce32550>"
      ]
     },
     "metadata": {},
     "output_type": "display_data"
    }
   ],
   "source": [
    "plt.xticks(x, learning_rate)\n",
    "plt.plot(x,mean_specificity_train, color = \"blue\")\n",
    "plt.plot(x,mean_specificity_test, color = \"red\")\n",
    "plt.show()"
   ]
  },
  {
   "cell_type": "code",
   "execution_count": 466,
   "metadata": {},
   "outputs": [
    {
     "data": {
      "image/png": "[encoded data removed]",
      "text/plain": [
       "<matplotlib.figure.Figure at 0x10868cdc0f0>"
      ]
     },
     "metadata": {},
     "output_type": "display_data"
    }
   ],
   "source": [
    "plt.xticks(x, learning_rate)\n",
    "plt.plot(x,mean_accuracy_train, color = \"blue\")\n",
    "plt.plot(x,mean_accuracy_test, color = \"red\")\n",
    "plt.show()"
   ]
  },
  {
   "cell_type": "code",
   "execution_count": 527,
   "metadata": {},
   "outputs": [
    {
     "name": "stdout",
     "output_type": "stream",
     "text": [
      "Training Scores\n",
      "Specificity0.988903822711\n",
      "Sensitivity0.0476869777868\n",
      "Accuracy0.767957519076\n",
      "Testing Scores\n",
      "Specificity0.990498812352\n",
      "Sensitivity0.0501426824297\n",
      "Accuracy0.769804822044\n"
     ]
    }
   ],
   "source": [
    "model = AdaBoostClassifier(n_estimators = 15 ,learning_rate = .6)\n",
    "model.fit(X_train, y_train)\n",
    "y_pred = model.predict(X_test)\n",
    "score_test = confusion_matrix(y_test, y_pred,labels=[1, 0])\n",
    "y_pred = model.predict(X_train)\n",
    "score_train = confusion_matrix(y_train, y_pred,labels=[1, 0])\n",
    "# train scores\n",
    "print(\"Training Scores\")\n",
    "tp, fn, fp, tn = score_train.ravel()\n",
    "print(\"Specificity\"+str(tp/(tp+fn)))\n",
    "print(\"Sensitivity\"+str(tn/(tn+fp)))\n",
    "print(\"Accuracy\"+str((tp+tn)/(tn+tp+fn+fp)))\n",
    "        \n",
    "# test scores\n",
    "print(\"Testing Scores\")\n",
    "tp, fn, fp, tn = score_test.ravel()\n",
    "print(\"Specificity\"+str(tp/(tp+fn)))\n",
    "print(\"Sensitivity\"+str(tn/(tn+fp)))\n",
    "print(\"Accuracy\"+str((tp+tn)/(tn+tp+fn+fp)))"
   ]
  },
  {
   "cell_type": "code",
   "execution_count": 528,
   "metadata": {},
   "outputs": [
    {
     "name": "stdout",
     "output_type": "stream",
     "text": [
      "[[7923   76]\n",
      " [2330  123]]\n"
     ]
    }
   ],
   "source": [
    "print(score_test)"
   ]
  },
  {
   "cell_type": "code",
   "execution_count": null,
   "metadata": {
    "collapsed": true
   },
   "outputs": [],
   "source": []
  }
 ],
 "metadata": {
  "kernelspec": {
   "display_name": "Python 3",
   "language": "python",
   "name": "python3"
  },
  "language_info": {
   "codemirror_mode": {
    "name": "ipython",
    "version": 3
   },
   "file_extension": ".py",
   "mimetype": "text/x-python",
   "name": "python",
   "nbconvert_exporter": "python",
   "pygments_lexer": "ipython3",
   "version": "3.6.3"
  }
 },
 "nbformat": 4,
 "nbformat_minor": 2
}
